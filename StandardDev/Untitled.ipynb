{
 "cells": [
  {
   "cell_type": "markdown",
   "metadata": {},
   "source": [
    "# Task 3"
   ]
  },
  {
   "cell_type": "markdown",
   "metadata": {},
   "source": [
    "***"
   ]
  },
  {
   "cell_type": "markdown",
   "metadata": {},
   "source": [
    "The goals of this task were to research the two excel functions STDDEV.P and STDDEV.S and note a difference between them,\n",
    "Then use numpy to perform a simulation\n",
    "demonstrating that the STDDEV.S calculation is a better estimate for the standard deviation of a population when performed on a sample"
   ]
  },
  {
   "cell_type": "code",
   "execution_count": 1,
   "metadata": {},
   "outputs": [
    {
     "name": "stdout",
     "output_type": "stream",
     "text": [
      "221.80481284228256\n",
      "221.80255859660411\n"
     ]
    }
   ],
   "source": [
    "import numpy as np\n",
    "#defining array \n",
    "# [5]\n",
    "x = np.array([[17, 200], [123, 443]])\n",
    "#STDDEV.P function\n",
    "a = np.sqrt(np.sum((x - np.mean(x))**2)/len(x))\n",
    "#STDDEV.S function\n",
    "b = np.sqrt(np.sum((x - np.mean(x))**2)/len(x)-1)\n",
    "#printing results\n",
    "print(a)\n",
    "print(b)"
   ]
  }
 ],
 "metadata": {
  "kernelspec": {
   "display_name": "Python 3",
   "language": "python",
   "name": "python3"
  },
  "language_info": {
   "codemirror_mode": {
    "name": "ipython",
    "version": 3
   },
   "file_extension": ".py",
   "mimetype": "text/x-python",
   "name": "python",
   "nbconvert_exporter": "python",
   "pygments_lexer": "ipython3",
   "version": "3.8.3"
  }
 },
 "nbformat": 4,
 "nbformat_minor": 4
}
