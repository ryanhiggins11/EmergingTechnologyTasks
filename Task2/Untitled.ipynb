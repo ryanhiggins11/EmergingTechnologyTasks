{
 "cells": [
  {
   "cell_type": "markdown",
   "metadata": {},
   "source": [
    "## TASK 2"
   ]
  },
  {
   "cell_type": "markdown",
   "metadata": {},
   "source": [
    "The Chi-squared test for independence"
   ]
  },
  {
   "cell_type": "markdown",
   "metadata": {},
   "source": [
    "[1] - https://en.wikipedia.org/wiki/Chi-squared_test When i first got the assignment i decided to give the wikipedia page a read to find out what Chi-Squared-Test was about and gained some knowledge. Reference back to Example chi-squared test for categorical data on the wikipedia page as it is a good example of how to clearly show how to get the result.\n",
    "[2] https://pythonhealthcare.org/2018/04/13/58-statistics-chi-squared-test/ - Really good to get a basic understanding for whats going on.\n",
    "[3] https://www.khanacademy.org/math/ap-statistics/chi-square-tests/chi-square-tests-two-way-tables/v/chi-square-test-association-independence - \n",
    "\n",
    "The chi-squared test is used to determine whether there is a significant difference between the expected frequencies and the observed frequencies in one or more categories.\n"
   ]
  },
  {
   "cell_type": "code",
   "execution_count": 1,
   "metadata": {},
   "outputs": [
    {
     "name": "stdout",
     "output_type": "stream",
     "text": [
      "24.5712028585826\n"
     ]
    }
   ],
   "source": [
    "import numpy as np\n",
    "#from scipy.stats import chisquare\n",
    "import scipy.stats as stats\n",
    "\n",
    "categories = [[90, 60, 104, 95], [30, 50, 51, 20], [30, 40, 45, 35]]\n",
    "chi2,p,dof,exp = stats.chi2_contingency(categories)\n",
    "\n",
    "print(chi2)"
   ]
  },
  {
   "cell_type": "code",
   "execution_count": null,
   "metadata": {},
   "outputs": [],
   "source": []
  }
 ],
 "metadata": {
  "kernelspec": {
   "display_name": "Python 3",
   "language": "python",
   "name": "python3"
  },
  "language_info": {
   "codemirror_mode": {
    "name": "ipython",
    "version": 3
   },
   "file_extension": ".py",
   "mimetype": "text/x-python",
   "name": "python",
   "nbconvert_exporter": "python",
   "pygments_lexer": "ipython3",
   "version": "3.8.3"
  }
 },
 "nbformat": 4,
 "nbformat_minor": 4
}
