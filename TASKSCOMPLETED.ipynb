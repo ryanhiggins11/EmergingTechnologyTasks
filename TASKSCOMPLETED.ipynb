{
 "cells": [
  {
   "cell_type": "markdown",
   "metadata": {},
   "source": [
    "# TASKS\n",
    "***"
   ]
  },
  {
   "cell_type": "markdown",
   "metadata": {},
   "source": [
    "This is my solutions to the tasks gave to me by IanMcLoughlynn to be completed as part of my Emerging Technologies module. Email (G00337350@gmit.ie)"
   ]
  },
  {
   "cell_type": "markdown",
   "metadata": {},
   "source": [
    "***"
   ]
  },
  {
   "cell_type": "markdown",
   "metadata": {},
   "source": [
    "## Task 1"
   ]
  },
  {
   "cell_type": "markdown",
   "metadata": {},
   "source": [
    "To calculate the square root of 2 to 100 decimal places\n",
    "***"
   ]
  },
  {
   "cell_type": "markdown",
   "metadata": {},
   "source": [
    "The sqaure root of a number can be calculated using Newton's Method. [1]\n",
    "\n",
    "To find the sqaure root $z$ of a number $x$, we can iterate using the following equation.\n",
    "\n",
    "Add in how it works\n",
    "\n",
    "$$ z' = z - \\frac{z^2 - x}{2z} $$\n",
    "\n",
    "[1] A tour of go. Exercise: Loops and Functions https://tour.golang.com/flowcontrol/8"
   ]
  },
  {
   "cell_type": "code",
   "execution_count": 4,
   "metadata": {},
   "outputs": [],
   "source": [
    "def sqrt2(x):\n",
    "    \"\"\" \n",
    "    function to calculate the sqaure root of 2 to 100 decimal places\n",
    "    \"\"\"\n",
    "    #Guess for square root of z\n",
    "    z = x / 2\n",
    "    #loop to test the accuracy\n",
    "    while abs(x -(z * z)) > 0.0001:\n",
    "    #calculate a better guess for the square root\n",
    "        z -= (z*z - x) / (2*z)\n",
    "    #Return the square root of 2\n",
    "    \n",
    "    return print(\"%.100f\" % z)"
   ]
  },
  {
   "cell_type": "code",
   "execution_count": 5,
   "metadata": {},
   "outputs": [
    {
     "name": "stdout",
     "output_type": "stream",
     "text": [
      "1.4142156862745098866440685014822520315647125244140625000000000000000000000000000000000000000000000000\n"
     ]
    }
   ],
   "source": [
    "sqrt2(2)"
   ]
  },
  {
   "cell_type": "markdown",
   "metadata": {},
   "source": [
    "By Importing Math here we can now test the function\n",
    "***"
   ]
  },
  {
   "cell_type": "code",
   "execution_count": 6,
   "metadata": {},
   "outputs": [
    {
     "name": "stdout",
     "output_type": "stream",
     "text": [
      "1.4142156862745098866440685014822520315647125244140625000000000000000000000000000000000000000000000000\n"
     ]
    }
   ],
   "source": [
    "import math\n",
    "sqrt2(2)"
   ]
  },
  {
   "cell_type": "markdown",
   "metadata": {},
   "source": [
    "References:\n",
    "[1]: https://en.wikipedia.org/wiki/Square_root_of_2"
   ]
  },
  {
   "cell_type": "markdown",
   "metadata": {},
   "source": [
    "***"
   ]
  },
  {
   "cell_type": "markdown",
   "metadata": {},
   "source": [
    "## Task 2"
   ]
  },
  {
   "cell_type": "markdown",
   "metadata": {},
   "source": [
    "Chi-squared test for independence\n",
    "****"
   ]
  },
  {
   "cell_type": "markdown",
   "metadata": {},
   "source": [
    "The goal of this task was to use scipy.stats to verify this value and calculate the associated p value"
   ]
  },
  {
   "cell_type": "markdown",
   "metadata": {},
   "source": [
    "The Chi-Square Test of Independence is a non-parametric test which determines whether the variables are independent or related.\n",
    "\n",
    "To analyse the data a cotingency table is used. A contingency table A contingency table is an arrangement in which data is classified according to two categorical variables. The categories for one variable appear in the rows, and the categories for the other variable appear in columns.\n",
    "Each variable must have two or more categories. Each cell reflects the total count of cases for a specific pair of categories.\n"
   ]
  },
  {
   "cell_type": "markdown",
   "metadata": {},
   "source": [
    "***"
   ]
  },
  {
   "cell_type": "markdown",
   "metadata": {},
   "source": [
    "The formula for chi squared test is: \n",
    "$$ x^2 = \\sum \\limits \\frac {(O_i - E_i)^2} {E_i} $$"
   ]
  },
  {
   "cell_type": "markdown",
   "metadata": {},
   "source": [
    "The code below is the Chi-Squared test using the scipy.stats import.\n",
    "***"
   ]
  },
  {
   "cell_type": "code",
   "execution_count": 13,
   "metadata": {},
   "outputs": [
    {
     "name": "stdout",
     "output_type": "stream",
     "text": [
      "=====================\n",
      "Calculated Chi-Value\n",
      "24.5712028585826\n",
      "=====================\n",
      "Associated p Value\n",
      "0.0004098425861096696\n",
      "=====================\n"
     ]
    }
   ],
   "source": [
    "#Imports\n",
    "import scipy.stats as stats\n",
    "\n",
    "# values which we got from the table provided\n",
    "rows = [[90,60,104,95],[30,50,51,20],[30,40,45,35]]\n",
    "\n",
    "#Then pass the rows from the table into the test for independence.\n",
    "chi2,p,doof,exp = stats.chi2_contingency(rows)\n",
    "\n",
    "#We then print the results we get from the test.\n",
    "print(\"=====================\")\n",
    "print(\"Calculated Chi-Value\")\n",
    "print(chi2)\n",
    "print(\"=====================\")\n",
    "print(\"Associated p Value\")\n",
    "print(p)\n",
    "print(\"=====================\")\n"
   ]
  },
  {
   "cell_type": "markdown",
   "metadata": {},
   "source": [
    "References\n",
    "***"
   ]
  },
  {
   "cell_type": "markdown",
   "metadata": {},
   "source": [
    "1 - https://www.khanacademy.org/math/ap-statistics/chi-square-tests/chi-square-tests-two-way-tables/v/chi-square-test-association-independence\n",
    "2 - https://en.wikipedia.org/wiki/Chi-squared_test\n",
    "\n",
    "3 - https://en.wikipedia.org/wiki/Contingency_table."
   ]
  },
  {
   "cell_type": "markdown",
   "metadata": {},
   "source": [
    "***"
   ]
  },
  {
   "cell_type": "code",
   "execution_count": null,
   "metadata": {},
   "outputs": [],
   "source": []
  }
 ],
 "metadata": {
  "kernelspec": {
   "display_name": "Python 3",
   "language": "python",
   "name": "python3"
  },
  "language_info": {
   "codemirror_mode": {
    "name": "ipython",
    "version": 3
   },
   "file_extension": ".py",
   "mimetype": "text/x-python",
   "name": "python",
   "nbconvert_exporter": "python",
   "pygments_lexer": "ipython3",
   "version": "3.8.3"
  }
 },
 "nbformat": 4,
 "nbformat_minor": 4
}
