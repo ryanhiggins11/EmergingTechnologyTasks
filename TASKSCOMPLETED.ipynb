{
 "cells": [
  {
   "cell_type": "markdown",
   "metadata": {},
   "source": [
    "# TASKS\n",
    "***"
   ]
  },
  {
   "cell_type": "markdown",
   "metadata": {},
   "source": [
    "This is my solutions to the tasks gave to me by IanMcLoughlynn to be completed as part of my Emerging Technologies module. Email (G00337350@gmit.ie)"
   ]
  },
  {
   "cell_type": "markdown",
   "metadata": {},
   "source": [
    "***"
   ]
  },
  {
   "cell_type": "markdown",
   "metadata": {},
   "source": [
    "## Task 1"
   ]
  },
  {
   "cell_type": "markdown",
   "metadata": {},
   "source": [
    "To calculate the square root of 2 to 100 decimal places\n",
    "***"
   ]
  },
  {
   "cell_type": "markdown",
   "metadata": {},
   "source": [
    "The sqaure root of a number can be calculated using Newton's Method. [1]\n",
    "\n",
    "To find the sqaure root $z$ of a number $x$, we can iterate using the following equation.\n",
    "\n",
    "Add in how it works\n",
    "\n",
    "$$ z' = z - \\frac{z^2 - x}{2z} $$\n",
    "\n",
    "[1] A tour of go. Exercise: Loops and Functions https://tour.golang.com/flowcontrol/8"
   ]
  },
  {
   "cell_type": "code",
   "execution_count": 4,
   "metadata": {},
   "outputs": [],
   "source": [
    "def sqrt2(x):\n",
    "    \"\"\" \n",
    "    function to calculate the sqaure root of 2 to 100 decimal places\n",
    "    \"\"\"\n",
    "    #Guess for square root of z\n",
    "    z = x / 2\n",
    "    #loop to test the accuracy\n",
    "    while abs(x -(z * z)) > 0.0001:\n",
    "    #calculate a better guess for the square root\n",
    "        z -= (z*z - x) / (2*z)\n",
    "    #Return the square root of 2\n",
    "    \n",
    "    return print(\"%.100f\" % z)"
   ]
  },
  {
   "cell_type": "code",
   "execution_count": 5,
   "metadata": {},
   "outputs": [
    {
     "name": "stdout",
     "output_type": "stream",
     "text": [
      "1.4142156862745098866440685014822520315647125244140625000000000000000000000000000000000000000000000000\n"
     ]
    }
   ],
   "source": [
    "sqrt2(2)"
   ]
  },
  {
   "cell_type": "markdown",
   "metadata": {},
   "source": [
    "By Importing Math here we can now test the function\n"
   ]
  },
  {
   "cell_type": "code",
   "execution_count": 6,
   "metadata": {},
   "outputs": [
    {
     "name": "stdout",
     "output_type": "stream",
     "text": [
      "1.4142156862745098866440685014822520315647125244140625000000000000000000000000000000000000000000000000\n"
     ]
    }
   ],
   "source": [
    "import math\n",
    "sqrt2(2)"
   ]
  },
  {
   "cell_type": "markdown",
   "metadata": {},
   "source": [
    "References:\n",
    "[1]: https://en.wikipedia.org/wiki/Square_root_of_2"
   ]
  },
  {
   "cell_type": "markdown",
   "metadata": {},
   "source": [
    "***"
   ]
  },
  {
   "cell_type": "markdown",
   "metadata": {},
   "source": [
    "## Task 2"
   ]
  },
  {
   "cell_type": "markdown",
   "metadata": {},
   "source": [
    "Chi-squared test for independence\n",
    "****"
   ]
  },
  {
   "cell_type": "markdown",
   "metadata": {},
   "source": [
    "The goal of this task was to use scipy.stats to verify this value and calculate the associated p value"
   ]
  },
  {
   "cell_type": "markdown",
   "metadata": {},
   "source": [
    "The Chi-Square Test of Independence is a non-parametric test which determines whether the variables are independent or related.\n",
    "\n",
    "To analyse the data a cotingency table is used. A contingency table A contingency table is an arrangement in which data is classified according to two categorical variables. The categories for one variable appear in the rows, and the categories for the other variable appear in columns.\n",
    "Each variable must have two or more categories. Each cell reflects the total count of cases for a specific pair of categories.\n"
   ]
  },
  {
   "cell_type": "markdown",
   "metadata": {},
   "source": [
    "***"
   ]
  },
  {
   "cell_type": "markdown",
   "metadata": {},
   "source": [
    "The formula for chi squared test is: \n",
    "\n",
    "$$ x^2 = \\sum \\limits \\frac {(O_i - E_i)^2} {E_i} $$\n"
   ]
  },
  {
   "cell_type": "code",
   "execution_count": null,
   "metadata": {},
   "outputs": [],
   "source": [
    "The code below is the Chi-Squared test using the scipy.stats import.\n",
    "***"
   ]
  },
  {
   "cell_type": "code",
   "execution_count": 4,
   "metadata": {},
   "outputs": [
    {
     "name": "stdout",
     "output_type": "stream",
     "text": [
      "=====================\n",
      "Calculated Chi-Value\n",
      "24.5712028585826\n",
      "=====================\n",
      "Associated p Value\n",
      "0.0004098425861096696\n",
      "=====================\n"
     ]
    }
   ],
   "source": [
    "#Imports\n",
    "import scipy.stats as stats\n",
    "\n",
    "# values which we got from the table provided\n",
    "rows = [[90,60,104,95],[30,50,51,20],[30,40,45,35]]\n",
    "\n",
    "#Then pass the rows from the table into the test for independence.\n",
    "chi2,p,doof,exp = stats.chi2_contingency(rows)\n",
    "\n",
    "#We then print the results we get from the test.\n",
    "print(\"=====================\")\n",
    "print(\"Calculated Chi-Value\")\n",
    "print(chi2)\n",
    "print(\"=====================\")\n",
    "print(\"Associated p Value\")\n",
    "print(p)\n",
    "print(\"=====================\")\n"
   ]
  },
  {
   "cell_type": "markdown",
   "metadata": {},
   "source": [
    "References\n",
    "***"
   ]
  },
  {
   "cell_type": "markdown",
   "metadata": {},
   "source": [
    "1 - https://www.khanacademy.org/math/ap-statistics/chi-square-tests/chi-square-tests-two-way-tables/v/chi-square-test-association-independence.\n",
    "    <br>\n",
    "2 - https://en.wikipedia.org/wiki/Chi-squared_test.\n",
    "    <br>\n",
    "3 - https://en.wikipedia.org/wiki/Contingency_table.\n",
    "    <br>\n",
    "4 - https://docs.scipy.org/doc/scipy/reference/generated/scipy.stats.chisquare.html\n",
    "    <br>\n",
    "***"
   ]
  },
  {
   "cell_type": "markdown",
   "metadata": {},
   "source": [
    "***"
   ]
  },
  {
   "cell_type": "markdown",
   "metadata": {},
   "source": [
    "# Task 3"
   ]
  },
  {
   "cell_type": "markdown",
   "metadata": {},
   "source": [
    "Standard Deviation\n",
    "***"
   ]
  },
  {
   "cell_type": "markdown",
   "metadata": {},
   "source": [
    "The goals of this task was to research the two excel functions STDEV.P and STDEV.S. Then use numpy to perform a simulation demonstrating that the STDEV.S calculation is a better estimate for the standard deviation of a population when performed on a sample"
   ]
  },
  {
   "cell_type": "markdown",
   "metadata": {},
   "source": [
    "STDEV.P is used to calculate the standard deviation of a whole population where p stands for the npopulation.\n",
    "The formula we use for standard deviation for a population is:\n",
    "\n",
    "$$ \\sigma x = \\sqrt \\frac {1}{n} \\sum \\limits_{i=1} ^{n} ( x_i - \\bar x )^2 $$\n",
    "\n",
    "Mean absolute deviation The mean absolute deviation of a dataset is the average distance between each data point and the mean.\n",
    "Below is the formula to calculate the Mean of a population:\n",
    "<br>\n",
    "$$ Population (MAD)= \\frac{1}{n} \\sum \\limits_{i=1} ^{n}| x_i - \\bar x $$\n"
   ]
  },
  {
   "cell_type": "markdown",
   "metadata": {},
   "source": [
    "STDDEV.S\n",
    "STDDEV.S is used when you have a sample of a dataset such as a sample of a population. Ex Find population of males in a school. This would be used to generalise this sample to the entire popuation. The sample will then be used as an estimate of the entire population.\n",
    "The formula we use for standard deviation on a sample of a population is:\n",
    "\n",
    "$$ S x = \\sqrt \\frac {1}{n -1} \\sum \\limits_{i=1} ^{n} ( x_i - \\bar x )^2 $$\n",
    "\n",
    "Below is the equation to calculate the Mean Absolute Variance of a sample of a Population is:\n",
    "\n",
    "$$ Sample (MAD)= \\frac{1}{n -1} \\sum \\limits_{i=1} ^{n}| x_i - \\bar x $$\n",
    "\n",
    "***"
   ]
  },
  {
   "cell_type": "code",
   "execution_count": 4,
   "metadata": {},
   "outputs": [
    {
     "name": "stdout",
     "output_type": "stream",
     "text": [
      "STDEV.P(population): 15.070958391823412\n",
      "STDEV.P(sample): 18.113789636627672\n",
      "STDEV.S(sample): 19.364455656102056\n"
     ]
    }
   ],
   "source": [
    "import numpy as np\n",
    "\n",
    "# STDEV.P\n",
    "def STDEVP(x):\n",
    "    sd = np.sqrt(np.sum((x - np.mean(x))**2)/len(x))\n",
    "    return sd\n",
    "\n",
    "# STDEV.S\n",
    "def STDEVS(x):\n",
    "    sd = np.sqrt(np.sum((x - np.mean(x))**2)/(len(x)-1))\n",
    "    return sd\n",
    "\n",
    "population = [1, 4, 6, 13, 14, 22, 28, 39, 23, 23, 5, 34, 43, 12, 1, 2, 34, 15, 26, 4, 55]\n",
    "# Sample of population\n",
    "sample = [1, 6, 13, 14, 22, 39, 43, 55]\n",
    "\n",
    "print(\"STDEV.P(population): \" + str(STDEVP(population)))\n",
    "print(\"STDEV.P(sample): \" + str(STDEVP(sample)))\n",
    "print(\"STDEV.S(sample): \" + str(STDEVS(sample)))"
   ]
  },
  {
   "cell_type": "markdown",
   "metadata": {},
   "source": [
    "From this information above it is apparent that STDEV.S is a better estimation of the population.In the STDEV.S we divided the population by (x-1) as apposed to in the STDEV.P where we only divided it by (x)"
   ]
  },
  {
   "cell_type": "markdown",
   "metadata": {},
   "source": [
    "References\n",
    "<br>\n",
    "[1] - Population and sample deviation - https://www.khanacademy.org/math/statistics-probability/summarizing-quantitative-data/variance-standard-deviation-sample/a/population-and-sample-standard-deviation-review\n",
    "<br>\n",
    "[2] - Mean Absolute Devation: https://www.khanacademy.org/math/statistics-probability/summarizing-quantitative-data/other-measures-of-spread/a/mean-absolute-deviation-mad-review\n",
    "<br>\n",
    "[3] - https://stackoverflow.com/questions/64884294/stdev-s-and-stdev-p-using-numpy\n",
    "***"
   ]
  },
  {
   "cell_type": "markdown",
   "metadata": {},
   "source": [
    "# Task 4"
   ]
  },
  {
   "cell_type": "markdown",
   "metadata": {},
   "source": [
    "Use scikit-learn to apply k-means clustering to Fisher’s famous Iris data set\n",
    "***"
   ]
  },
  {
   "cell_type": "markdown",
   "metadata": {},
   "source": [
    "The goals of this task were to use scikit-learn to apply k-means clustering to Fisher’s famous Iris data set, explain in a Markdown cell how your code works and how accurate it might be, explain how your model could be used to make predictions of species of iris.\n",
    "\n",
    "The k-means algorithm belongs to the category of prototype-based clustering. Prototype-based clustering means that each cluster is represented by a prototype, which can either be the centroid (average) of similar points with continuous features, or the medoid\n",
    "\n",
    "The kmeans algorithm seeks to cluster data together around a specified number of centroids or centre points. By organising data into these clusters it then allows predictions to be made about existing or incoming data.\n",
    "Why use kmeans Clustering? The reason why we use kmeans clustering is that it is easy to use, it is easy to implement, can handle large data sets and is widely available.\n",
    "***"
   ]
  },
  {
   "cell_type": "code",
   "execution_count": 1,
   "metadata": {},
   "outputs": [],
   "source": [
    "# Imports\n",
    "from sklearn import datasets\n",
    "\n",
    "import sklearn.cluster as skcl\n",
    "\n",
    "import matplotlib.pyplot as plt\n",
    "\n",
    "import numpy as np"
   ]
  },
  {
   "cell_type": "code",
   "execution_count": 9,
   "metadata": {},
   "outputs": [
    {
     "data": {
      "text/plain": [
       "Text(0.5, 1.0, 'SEPAL DATA + CLUSTER CENTROIDS')"
      ]
     },
     "execution_count": 9,
     "metadata": {},
     "output_type": "execute_result"
    },
    {
     "data": {
      "image/png": "[encoded data removed]",
      "text/plain": [
       "<Figure size 432x288 with 1 Axes>"
      ]
     },
     "metadata": {
      "needs_background": "light"
     },
     "output_type": "display_data"
    }
   ],
   "source": [
    "sepal_data = iris_ds.data[:,:2]\n",
    "petal_data = iris_ds.data[:,-2:]\n",
    "\n",
    "plt.xlabel('SEPAL LENGTH')\n",
    "plt.ylabel('SEPAL WIDTH')\n",
    "# Plot out Sepal Data with respect to targets   \n",
    "plt.scatter(sepal_data[:,0], sepal_data[:,1], c=iris_ds.target, cmap='brg')\n",
    "\n",
    "# Perform kmeans on sepal data \n",
    "sepalKMeans = skcl.KMeans(n_clusters=3, random_state=0).fit(sepal_data)\n",
    "sepal_centers = sepalKMeans.cluster_centers_\n",
    "# identify cluster centers \n",
    "plt.plot(sepal_centers[:,0], sepal_centers[:,1], 'ko')\n",
    "plt.title(\"SEPAL DATA + CLUSTER CENTROIDS\")"
   ]
  },
  {
   "cell_type": "code",
   "execution_count": 10,
   "metadata": {},
   "outputs": [
    {
     "data": {
      "text/plain": [
       "Text(0.5, 1.0, 'PETAL DATA + CLUSTER CENTROIDS')"
      ]
     },
     "execution_count": 10,
     "metadata": {},
     "output_type": "execute_result"
    },
    {
     "data": {
      "image/png": "[encoded data removed]",
      "text/plain": [
       "<Figure size 432x288 with 1 Axes>"
      ]
     },
     "metadata": {
      "needs_background": "light"
     },
     "output_type": "display_data"
    }
   ],
   "source": [
    "plt.xlabel('PETAL LENGTH')\n",
    "plt.ylabel('PETAL WIDTH')\n",
    "# Plot out Petal data\n",
    "plt.scatter(petal_data[:,0], petal_data[:,1], c=iris_ds.target, cmap='brg')\n",
    "\n",
    "# Perform kmeans on petal\n",
    "petalKMeans = skcl.KMeans(n_clusters=3, random_state=0).fit(petal_data)\n",
    "petal_centers = petalKMeans.cluster_centers_\n",
    "# identify cluster centers \n",
    "plt.plot(petal_centers[:,0], petal_centers[:,1], 'ko')\n",
    "plt.title(\"PETAL DATA + CLUSTER CENTROIDS\")"
   ]
  },
  {
   "cell_type": "markdown",
   "metadata": {},
   "source": [
    "The black dots which are centroids indicate the mean parameters of each cluster. Then which centroid a sample lands closest to will determine the cluster it belongs to.\n",
    "***"
   ]
  },
  {
   "cell_type": "markdown",
   "metadata": {},
   "source": [
    "References:\n",
    "<br>\n",
    "[1] - https://en.wikipedia.org/wiki/Iris_flower_data_set\n",
    "<br>\n",
    "[2] - https://scikit-learn.org/stable/modules/generated/sklearn.cluster.k_means.html\n",
    "<br>\n",
    "[3] - https://towardsdatascience.com/k-means-clustering-with-scikit-learn-6b47a369a83c\n",
    "<br>\n",
    "[4] - https://towardsdatascience.com/the-iris-dataset-a-little-bit-of-history-and-biology-fb4812f5a7b5\n",
    "<br>\n",
    "[5] - https://scikit-learn.org/stable/modules/generated/sklearn.cluster.KMeans.html\n",
    "<br>\n",
    "***"
   ]
  }
 ],
 "metadata": {
  "kernelspec": {
   "display_name": "Python 3",
   "language": "python",
   "name": "python3"
  },
  "language_info": {
   "codemirror_mode": {
    "name": "ipython",
    "version": 3
   },
   "file_extension": ".py",
   "mimetype": "text/x-python",
   "name": "python",
   "nbconvert_exporter": "python",
   "pygments_lexer": "ipython3",
   "version": "3.8.3"
  }
 },
 "nbformat": 4,
 "nbformat_minor": 4
}
