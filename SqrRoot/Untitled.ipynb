{
 "cells": [
  {
   "cell_type": "markdown",
   "metadata": {},
   "source": [
    "# Square Root Of 2"
   ]
  },
  {
   "cell_type": "markdown",
   "metadata": {},
   "source": [
    "This is my solution to the 1st Task - Create a function to calculate the square root of 2 to 100 decimal places.\n",
    "\n",
    "Author - Ryan Higgins (G00337350@gmit.ie)"
   ]
  },
  {
   "cell_type": "markdown",
   "metadata": {},
   "source": [
    "***"
   ]
  },
  {
   "cell_type": "markdown",
   "metadata": {},
   "source": [
    "We can calculate the square root of a number by using Newtowns Method [1]\n",
    "\n",
    "To find the Sqaure Root $z$ of a number $x$, we can iterate using the following equation.\n",
    "$$ z = - \\frac{z^2 - x}{2z} $$\n",
    "\n",
    "\n",
    "[1] A Tour Of Go; Exercise: Loops and Functions - https://tour.golang.org/flowcontrol/8\n",
    "***"
   ]
  },
  {
   "cell_type": "code",
   "execution_count": 2,
   "metadata": {},
   "outputs": [],
   "source": [
    "def squareRoot(n):\n",
    "    x = int(n)\n",
    "    y = int(1)\n",
    "    \n",
    "    e = 0.100\n",
    "    while(x - y > e):\n",
    "        x = (x + y) // 2\n",
    "        y = n // x\n",
    "        \n",
    "    return int(x)"
   ]
  },
  {
   "cell_type": "code",
   "execution_count": 3,
   "metadata": {},
   "outputs": [
    {
     "name": "stdout",
     "output_type": "stream",
     "text": [
      "1. 4142135623730950488016887242096980785696718753769480731766797379907324784621070388503875343276415727\n"
     ]
    }
   ],
   "source": [
    "n = 2*10**200\n",
    "print(f'{squareRoot(n) // 10 ** 100}. {squareRoot(n) % 10 ** 100:100d}')"
   ]
  },
  {
   "cell_type": "markdown",
   "metadata": {},
   "source": [
    "***"
   ]
  },
  {
   "cell_type": "markdown",
   "metadata": {},
   "source": [
    "For my research into discovering how this was done i found a post on StackOverFlow which i have linked below. In this post they refactor Newtons Method which in turn uses the power of the method to increase the accuracy to the power of 100. Then i formatted it by using python formatting."
   ]
  },
  {
   "cell_type": "markdown",
   "metadata": {},
   "source": [
    "[2] https://stackoverflow.com/questions/46183020/square-root-without-pre-defined-function-in-python - StackOverFlow Link.\n",
    "[2] https://en.wikipedia.org/wiki/Newton%27s_method - Newtons Method On Wikipedia."
   ]
  }
 ],
 "metadata": {
  "kernelspec": {
   "display_name": "Python 3",
   "language": "python",
   "name": "python3"
  },
  "language_info": {
   "codemirror_mode": {
    "name": "ipython",
    "version": 3
   },
   "file_extension": ".py",
   "mimetype": "text/x-python",
   "name": "python",
   "nbconvert_exporter": "python",
   "pygments_lexer": "ipython3",
   "version": "3.8.3"
  }
 },
 "nbformat": 4,
 "nbformat_minor": 4
}
