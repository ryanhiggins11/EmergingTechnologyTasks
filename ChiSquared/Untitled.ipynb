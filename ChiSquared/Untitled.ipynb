{
 "cells": [
  {
   "cell_type": "markdown",
   "metadata": {},
   "source": [
    "# Task 2"
   ]
  },
  {
   "cell_type": "markdown",
   "metadata": {},
   "source": [
    "Chi-squared test for independence"
   ]
  },
  {
   "cell_type": "markdown",
   "metadata": {},
   "source": [
    "***"
   ]
  },
  {
   "cell_type": "markdown",
   "metadata": {},
   "source": [
    " For this task we had to to use scipy.stats to verify this value and calculate the associated p value. The Chi-Square Test of  Independence is a non-parametric test which determines whether the variables are independent or related."
   ]
  },
  {
   "cell_type": "markdown",
   "metadata": {},
   "source": [
    "***"
   ]
  },
  {
   "cell_type": "markdown",
   "metadata": {},
   "source": [
    "Cotingency table\n",
    "A contigency table is an arrangement in which data is classified according to two categorical variables. The categories for one variable appear in the rows, and the categories for the other variable appear in columns. Each variable must have two or more categories. Each cell reflects the total count of cases for a specific pair of categories.[1]"
   ]
  },
  {
   "cell_type": "markdown",
   "metadata": {},
   "source": [
    "Hypotheses\n",
    "H0 states that there is no association between the variables, that they are independant of eachother. H1 states that their is an association between them that they are dependent somehow.\n",
    "\n",
    "Formula\n",
    "The formula for the Chi squared test is shown below:\n",
    "\n",
    "$$ x^2 = \\sum \\limits \\frac {(O_i - E_i)^2} {E_i} $$\n",
    "The formula is based on the expected and the observed values where the expected is the expected number of observations and the observed is the actual number of observations."
   ]
  },
  {
   "cell_type": "code",
   "execution_count": 1,
   "metadata": {},
   "outputs": [
    {
     "name": "stdout",
     "output_type": "stream",
     "text": [
      "********\n",
      "Expected values: \n",
      "[[ 80.53846154  80.53846154 107.38461538  80.53846154]\n",
      " [ 34.84615385  34.84615385  46.46153846  34.84615385]\n",
      " [ 34.61538462  34.61538462  46.15384615  34.61538462]]\n",
      "********\n",
      "Chi-squared value:\n",
      "24.5712028585826\n",
      "********\n",
      "Degree of freedom: \n",
      "6\n",
      "********\n",
      "P value: \n",
      "0.0004098425861096696\n",
      "********\n"
     ]
    }
   ],
   "source": [
    "from scipy.stats import chi2_contingency\n",
    "#table of observed frequencies\n",
    "obs =[[90, 60, 104, 95], [30, 50, 51, 20],[30, 40, 45, 35]]\n",
    "'''\n",
    "p - The p-value of the test.\n",
    "e -  Chi-squared value \n",
    "dof - Degrees of freedom.\n",
    "expected - The expected frequencies, based on the marginal sums of the table.\n",
    "'''\n",
    "g, p, dof, expctd = chi2_contingency(obs)\n",
    "\n",
    "\n",
    "#print results\n",
    "print(\"********\")\n",
    "print(\"Expected values: \")\n",
    "print(expctd)\n",
    "print(\"********\")\n",
    "print(\"Chi-squared value:\")\n",
    "print(g)\n",
    "print(\"********\")\n",
    "print(\"Degree of freedom: \")\n",
    "print(dof)\n",
    "print(\"********\")\n",
    "print(\"P value: \")\n",
    "print(p)\n",
    "print(\"********\")"
   ]
  },
  {
   "cell_type": "markdown",
   "metadata": {},
   "source": [
    "***"
   ]
  },
  {
   "cell_type": "code",
   "execution_count": null,
   "metadata": {},
   "outputs": [],
   "source": []
  }
 ],
 "metadata": {
  "kernelspec": {
   "display_name": "Python 3",
   "language": "python",
   "name": "python3"
  },
  "language_info": {
   "codemirror_mode": {
    "name": "ipython",
    "version": 3
   },
   "file_extension": ".py",
   "mimetype": "text/x-python",
   "name": "python",
   "nbconvert_exporter": "python",
   "pygments_lexer": "ipython3",
   "version": "3.8.3"
  }
 },
 "nbformat": 4,
 "nbformat_minor": 4
}
